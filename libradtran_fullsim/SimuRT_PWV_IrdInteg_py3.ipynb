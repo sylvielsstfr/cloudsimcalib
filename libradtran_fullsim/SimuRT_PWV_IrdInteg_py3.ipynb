{
 "cells": [
  {
   "cell_type": "markdown",
   "metadata": {},
   "source": [
    "# Impact of PWV on atmospheric transmission in thermal part  : Integrated irradiance\n",
    "=======================================================================\n",
    "\n",
    "- Sylvie Dagoret-Campagne\n",
    "- affliliation : IJCLAB\n",
    "- creation date :  24 January 2020\n",
    "- update :  26 January 2020\n"
   ]
  },
  {
   "cell_type": "code",
   "execution_count": 1,
   "metadata": {},
   "outputs": [],
   "source": [
    "%load_ext autoreload\n",
    "%autoreload 2"
   ]
  },
  {
   "cell_type": "code",
   "execution_count": 2,
   "metadata": {},
   "outputs": [],
   "source": [
    "import matplotlib.pyplot as plt\n",
    "%matplotlib inline\n",
    "import sys\n",
    "import os\n",
    "import numpy as np"
   ]
  },
  {
   "cell_type": "code",
   "execution_count": 3,
   "metadata": {},
   "outputs": [],
   "source": [
    "import matplotlib\n",
    "import matplotlib.pyplot as plt\n",
    "import matplotlib.colors as colors\n",
    "import matplotlib.cm as cmx"
   ]
  },
  {
   "cell_type": "code",
   "execution_count": 4,
   "metadata": {},
   "outputs": [],
   "source": [
    "matplotlib.rcParams.update({'font.size': 15, 'lines.linewidth': 2, 'lines.markersize': 15})\n",
    "matplotlib.rcParams[\"axes.labelsize\"]=\"small\"\n",
    "matplotlib.rcParams[\"axes.linewidth\"]=2.0\n",
    "matplotlib.rcParams[\"xtick.major.size\"]=8\n",
    "matplotlib.rcParams[\"ytick.major.size\"]=8\n",
    "matplotlib.rcParams[\"ytick.minor.size\"]=5\n",
    "matplotlib.rcParams[\"xtick.labelsize\"]=\"large\"\n",
    "matplotlib.rcParams[\"ytick.labelsize\"]=\"large\"\n",
    "matplotlib.rcParams[\"figure.figsize\"]=(12,6)\n",
    "matplotlib.rcParams['axes.titlesize'] = 15\n",
    "matplotlib.rcParams['axes.titleweight'] = 'bold'\n",
    "#matplotlib.rcParams['axes.facecolor'] = 'blue'\n",
    "matplotlib.rcParams['xtick.direction'] = 'out'\n",
    "matplotlib.rcParams['ytick.direction'] = 'out'\n",
    "matplotlib.rcParams['lines.markeredgewidth'] = 0.3 # the line width around the marker symbol\n",
    "matplotlib.rcParams['lines.markersize'] = 10  # markersize, in points\n",
    "matplotlib.rcParams['grid.alpha'] = 1. # transparency, between 0.0 and 1.0\n",
    "matplotlib.rcParams['grid.linestyle'] = '-' # simple line\n",
    "matplotlib.rcParams['grid.linewidth'] = 0.4 # in points "
   ]
  },
  {
   "cell_type": "code",
   "execution_count": 5,
   "metadata": {},
   "outputs": [],
   "source": [
    "from scipy.interpolate import interp1d"
   ]
  },
  {
   "cell_type": "code",
   "execution_count": 6,
   "metadata": {},
   "outputs": [],
   "source": [
    "import time\n",
    "from datetime import datetime,date\n",
    "import dateutil.parser"
   ]
  },
  {
   "cell_type": "code",
   "execution_count": 7,
   "metadata": {},
   "outputs": [],
   "source": [
    "today = date.today()\n",
    "string_date=today.strftime(\"%Y-%m-%d\")"
   ]
  },
  {
   "cell_type": "code",
   "execution_count": 8,
   "metadata": {},
   "outputs": [
    {
     "name": "stdout",
     "output_type": "stream",
     "text": [
      "/Users/dagoret//MacOSX/External/libRadtran/libRadtran-2.0.1/\n"
     ]
    }
   ],
   "source": [
    "import libsimulateThermalIrradianceIntegrated"
   ]
  },
  {
   "cell_type": "code",
   "execution_count": 9,
   "metadata": {},
   "outputs": [
    {
     "data": {
      "text/plain": [
       "'/Users/dagoret//MacOSX/External/libRadtran/libRadtran-2.0.1'"
      ]
     },
     "execution_count": 9,
     "metadata": {},
     "output_type": "execute_result"
    }
   ],
   "source": [
    "os.getenv('LIBRADTRANDIR')"
   ]
  },
  {
   "cell_type": "code",
   "execution_count": 10,
   "metadata": {},
   "outputs": [],
   "source": [
    "am=1.\n",
    "pressure = 0.\n",
    "pwv=4.0\n",
    "aer=0\n",
    "ozone=300.\n",
    "cloudext=0"
   ]
  },
  {
   "cell_type": "code",
   "execution_count": 11,
   "metadata": {},
   "outputs": [],
   "source": [
    "pwv=np.linspace(0.2,13.,10)"
   ]
  },
  {
   "cell_type": "code",
   "execution_count": 12,
   "metadata": {},
   "outputs": [],
   "source": [
    "NBOBS=len(pwv)"
   ]
  },
  {
   "cell_type": "code",
   "execution_count": 13,
   "metadata": {},
   "outputs": [],
   "source": [
    "jet = plt.get_cmap('jet')\n",
    "cNorm = colors.Normalize(vmin=0, vmax=NBOBS)\n",
    "scalarMap = cmx.ScalarMappable(norm=cNorm, cmap=jet)\n",
    "all_colors = scalarMap.to_rgba(np.arange( NBOBS), alpha=1)"
   ]
  },
  {
   "cell_type": "code",
   "execution_count": 14,
   "metadata": {},
   "outputs": [
    {
     "name": "stdout",
     "output_type": "stream",
     "text": [
      "--------------------------------------------\n",
      " 1) airmass =  1.0\n",
      " 2) pwv =  0.2\n",
      " 3) oz =  300.0\n",
      " 4) pressure  =  0.0\n",
      " 5) atmospheric profile =  us\n",
      " 6) interaction processes =  sa\n",
      " 7) cloud extinction =  0\n",
      "--------------------------------------------\n",
      "Running uvspec with input file:  simulations/RT/2.0.1/MPL/pp/us/sa/rtthermal/in/RT_MPL_pp_us_sa_rtthermal_z10_wv2_oz30_cld0000.INP\n",
      "Output to file                :  simulations/RT/2.0.1/MPL/pp/us/sa/rtthermal/out/RT_MPL_pp_us_sa_rtthermal_z10_wv2_oz30_cld0000.OUT\n",
      "uvspec cmd:  /Users/dagoret//MacOSX/External/libRadtran/libRadtran-2.0.1/bin/uvspec  < simulations/RT/2.0.1/MPL/pp/us/sa/rtthermal/in/RT_MPL_pp_us_sa_rtthermal_z10_wv2_oz30_cld0000.INP > simulations/RT/2.0.1/MPL/pp/us/sa/rtthermal/out/RT_MPL_pp_us_sa_rtthermal_z10_wv2_oz30_cld0000.OUT\n",
      "--------------------------------------------\n",
      " 1) airmass =  1.0\n",
      " 2) pwv =  1.6222222222222222\n",
      " 3) oz =  300.0\n",
      " 4) pressure  =  0.0\n",
      " 5) atmospheric profile =  us\n",
      " 6) interaction processes =  sa\n",
      " 7) cloud extinction =  0\n",
      "--------------------------------------------\n",
      "Running uvspec with input file:  simulations/RT/2.0.1/MPL/pp/us/sa/rtthermal/in/RT_MPL_pp_us_sa_rtthermal_z10_wv16_oz30_cld0000.INP\n",
      "Output to file                :  simulations/RT/2.0.1/MPL/pp/us/sa/rtthermal/out/RT_MPL_pp_us_sa_rtthermal_z10_wv16_oz30_cld0000.OUT\n",
      "uvspec cmd:  /Users/dagoret//MacOSX/External/libRadtran/libRadtran-2.0.1/bin/uvspec  < simulations/RT/2.0.1/MPL/pp/us/sa/rtthermal/in/RT_MPL_pp_us_sa_rtthermal_z10_wv16_oz30_cld0000.INP > simulations/RT/2.0.1/MPL/pp/us/sa/rtthermal/out/RT_MPL_pp_us_sa_rtthermal_z10_wv16_oz30_cld0000.OUT\n",
      "--------------------------------------------\n",
      " 1) airmass =  1.0\n",
      " 2) pwv =  3.0444444444444447\n",
      " 3) oz =  300.0\n",
      " 4) pressure  =  0.0\n",
      " 5) atmospheric profile =  us\n",
      " 6) interaction processes =  sa\n",
      " 7) cloud extinction =  0\n",
      "--------------------------------------------\n",
      "Running uvspec with input file:  simulations/RT/2.0.1/MPL/pp/us/sa/rtthermal/in/RT_MPL_pp_us_sa_rtthermal_z10_wv30_oz30_cld0000.INP\n",
      "Output to file                :  simulations/RT/2.0.1/MPL/pp/us/sa/rtthermal/out/RT_MPL_pp_us_sa_rtthermal_z10_wv30_oz30_cld0000.OUT\n",
      "uvspec cmd:  /Users/dagoret//MacOSX/External/libRadtran/libRadtran-2.0.1/bin/uvspec  < simulations/RT/2.0.1/MPL/pp/us/sa/rtthermal/in/RT_MPL_pp_us_sa_rtthermal_z10_wv30_oz30_cld0000.INP > simulations/RT/2.0.1/MPL/pp/us/sa/rtthermal/out/RT_MPL_pp_us_sa_rtthermal_z10_wv30_oz30_cld0000.OUT\n",
      "--------------------------------------------\n",
      " 1) airmass =  1.0\n",
      " 2) pwv =  4.466666666666667\n",
      " 3) oz =  300.0\n",
      " 4) pressure  =  0.0\n",
      " 5) atmospheric profile =  us\n",
      " 6) interaction processes =  sa\n",
      " 7) cloud extinction =  0\n",
      "--------------------------------------------\n",
      "Running uvspec with input file:  simulations/RT/2.0.1/MPL/pp/us/sa/rtthermal/in/RT_MPL_pp_us_sa_rtthermal_z10_wv44_oz30_cld0000.INP\n",
      "Output to file                :  simulations/RT/2.0.1/MPL/pp/us/sa/rtthermal/out/RT_MPL_pp_us_sa_rtthermal_z10_wv44_oz30_cld0000.OUT\n",
      "uvspec cmd:  /Users/dagoret//MacOSX/External/libRadtran/libRadtran-2.0.1/bin/uvspec  < simulations/RT/2.0.1/MPL/pp/us/sa/rtthermal/in/RT_MPL_pp_us_sa_rtthermal_z10_wv44_oz30_cld0000.INP > simulations/RT/2.0.1/MPL/pp/us/sa/rtthermal/out/RT_MPL_pp_us_sa_rtthermal_z10_wv44_oz30_cld0000.OUT\n",
      "--------------------------------------------\n",
      " 1) airmass =  1.0\n",
      " 2) pwv =  5.888888888888889\n",
      " 3) oz =  300.0\n",
      " 4) pressure  =  0.0\n",
      " 5) atmospheric profile =  us\n",
      " 6) interaction processes =  sa\n",
      " 7) cloud extinction =  0\n",
      "--------------------------------------------\n",
      "Running uvspec with input file:  simulations/RT/2.0.1/MPL/pp/us/sa/rtthermal/in/RT_MPL_pp_us_sa_rtthermal_z10_wv58_oz30_cld0000.INP\n",
      "Output to file                :  simulations/RT/2.0.1/MPL/pp/us/sa/rtthermal/out/RT_MPL_pp_us_sa_rtthermal_z10_wv58_oz30_cld0000.OUT\n",
      "uvspec cmd:  /Users/dagoret//MacOSX/External/libRadtran/libRadtran-2.0.1/bin/uvspec  < simulations/RT/2.0.1/MPL/pp/us/sa/rtthermal/in/RT_MPL_pp_us_sa_rtthermal_z10_wv58_oz30_cld0000.INP > simulations/RT/2.0.1/MPL/pp/us/sa/rtthermal/out/RT_MPL_pp_us_sa_rtthermal_z10_wv58_oz30_cld0000.OUT\n",
      "--------------------------------------------\n",
      " 1) airmass =  1.0\n",
      " 2) pwv =  7.311111111111112\n",
      " 3) oz =  300.0\n",
      " 4) pressure  =  0.0\n",
      " 5) atmospheric profile =  us\n",
      " 6) interaction processes =  sa\n",
      " 7) cloud extinction =  0\n",
      "--------------------------------------------\n",
      "Running uvspec with input file:  simulations/RT/2.0.1/MPL/pp/us/sa/rtthermal/in/RT_MPL_pp_us_sa_rtthermal_z10_wv73_oz30_cld0000.INP\n",
      "Output to file                :  simulations/RT/2.0.1/MPL/pp/us/sa/rtthermal/out/RT_MPL_pp_us_sa_rtthermal_z10_wv73_oz30_cld0000.OUT\n",
      "uvspec cmd:  /Users/dagoret//MacOSX/External/libRadtran/libRadtran-2.0.1/bin/uvspec  < simulations/RT/2.0.1/MPL/pp/us/sa/rtthermal/in/RT_MPL_pp_us_sa_rtthermal_z10_wv73_oz30_cld0000.INP > simulations/RT/2.0.1/MPL/pp/us/sa/rtthermal/out/RT_MPL_pp_us_sa_rtthermal_z10_wv73_oz30_cld0000.OUT\n",
      "--------------------------------------------\n",
      " 1) airmass =  1.0\n",
      " 2) pwv =  8.733333333333333\n",
      " 3) oz =  300.0\n",
      " 4) pressure  =  0.0\n",
      " 5) atmospheric profile =  us\n",
      " 6) interaction processes =  sa\n",
      " 7) cloud extinction =  0\n",
      "--------------------------------------------\n",
      "Running uvspec with input file:  simulations/RT/2.0.1/MPL/pp/us/sa/rtthermal/in/RT_MPL_pp_us_sa_rtthermal_z10_wv87_oz30_cld0000.INP\n",
      "Output to file                :  simulations/RT/2.0.1/MPL/pp/us/sa/rtthermal/out/RT_MPL_pp_us_sa_rtthermal_z10_wv87_oz30_cld0000.OUT\n",
      "uvspec cmd:  /Users/dagoret//MacOSX/External/libRadtran/libRadtran-2.0.1/bin/uvspec  < simulations/RT/2.0.1/MPL/pp/us/sa/rtthermal/in/RT_MPL_pp_us_sa_rtthermal_z10_wv87_oz30_cld0000.INP > simulations/RT/2.0.1/MPL/pp/us/sa/rtthermal/out/RT_MPL_pp_us_sa_rtthermal_z10_wv87_oz30_cld0000.OUT\n",
      "--------------------------------------------\n",
      " 1) airmass =  1.0\n",
      " 2) pwv =  10.155555555555555\n",
      " 3) oz =  300.0\n",
      " 4) pressure  =  0.0\n",
      " 5) atmospheric profile =  us\n",
      " 6) interaction processes =  sa\n",
      " 7) cloud extinction =  0\n",
      "--------------------------------------------\n",
      "Running uvspec with input file:  simulations/RT/2.0.1/MPL/pp/us/sa/rtthermal/in/RT_MPL_pp_us_sa_rtthermal_z10_wv101_oz30_cld0000.INP\n",
      "Output to file                :  simulations/RT/2.0.1/MPL/pp/us/sa/rtthermal/out/RT_MPL_pp_us_sa_rtthermal_z10_wv101_oz30_cld0000.OUT\n",
      "uvspec cmd:  /Users/dagoret//MacOSX/External/libRadtran/libRadtran-2.0.1/bin/uvspec  < simulations/RT/2.0.1/MPL/pp/us/sa/rtthermal/in/RT_MPL_pp_us_sa_rtthermal_z10_wv101_oz30_cld0000.INP > simulations/RT/2.0.1/MPL/pp/us/sa/rtthermal/out/RT_MPL_pp_us_sa_rtthermal_z10_wv101_oz30_cld0000.OUT\n",
      "--------------------------------------------\n",
      " 1) airmass =  1.0\n",
      " 2) pwv =  11.577777777777778\n",
      " 3) oz =  300.0\n",
      " 4) pressure  =  0.0\n",
      " 5) atmospheric profile =  us\n",
      " 6) interaction processes =  sa\n",
      " 7) cloud extinction =  0\n",
      "--------------------------------------------\n",
      "Running uvspec with input file:  simulations/RT/2.0.1/MPL/pp/us/sa/rtthermal/in/RT_MPL_pp_us_sa_rtthermal_z10_wv115_oz30_cld0000.INP\n",
      "Output to file                :  simulations/RT/2.0.1/MPL/pp/us/sa/rtthermal/out/RT_MPL_pp_us_sa_rtthermal_z10_wv115_oz30_cld0000.OUT\n",
      "uvspec cmd:  /Users/dagoret//MacOSX/External/libRadtran/libRadtran-2.0.1/bin/uvspec  < simulations/RT/2.0.1/MPL/pp/us/sa/rtthermal/in/RT_MPL_pp_us_sa_rtthermal_z10_wv115_oz30_cld0000.INP > simulations/RT/2.0.1/MPL/pp/us/sa/rtthermal/out/RT_MPL_pp_us_sa_rtthermal_z10_wv115_oz30_cld0000.OUT\n",
      "--------------------------------------------\n",
      " 1) airmass =  1.0\n",
      " 2) pwv =  13.0\n",
      " 3) oz =  300.0\n",
      " 4) pressure  =  0.0\n",
      " 5) atmospheric profile =  us\n",
      " 6) interaction processes =  sa\n",
      " 7) cloud extinction =  0\n",
      "--------------------------------------------\n",
      "Running uvspec with input file:  simulations/RT/2.0.1/MPL/pp/us/sa/rtthermal/in/RT_MPL_pp_us_sa_rtthermal_z10_wv130_oz30_cld0000.INP\n",
      "Output to file                :  simulations/RT/2.0.1/MPL/pp/us/sa/rtthermal/out/RT_MPL_pp_us_sa_rtthermal_z10_wv130_oz30_cld0000.OUT\n",
      "uvspec cmd:  /Users/dagoret//MacOSX/External/libRadtran/libRadtran-2.0.1/bin/uvspec  < simulations/RT/2.0.1/MPL/pp/us/sa/rtthermal/in/RT_MPL_pp_us_sa_rtthermal_z10_wv130_oz30_cld0000.INP > simulations/RT/2.0.1/MPL/pp/us/sa/rtthermal/out/RT_MPL_pp_us_sa_rtthermal_z10_wv130_oz30_cld0000.OUT\n"
     ]
    }
   ],
   "source": [
    "all_temp = []\n",
    "for index in np.arange(NBOBS):\n",
    "  \n",
    "    path,thefile=libsimulateThermalIrradianceIntegrated.ProcessSimulation(am,pwv[index],ozone,pressure,\n",
    "                                                      prof_str='us',proc_str='sa',cloudext=cloudext)\n",
    "    \n",
    "    data = np.loadtxt(os.path.join(path,thefile))\n",
    "    wl = data[0]\n",
    "    atm = data[1] \n",
    "    all_temp.append(atm)"
   ]
  },
  {
   "cell_type": "code",
   "execution_count": null,
   "metadata": {},
   "outputs": [],
   "source": []
  },
  {
   "cell_type": "code",
   "execution_count": 15,
   "metadata": {},
   "outputs": [
    {
     "data": {
      "image/png": "[encoded data removed]",
      "text/plain": [
       "<Figure size 864x432 with 1 Axes>"
      ]
     },
     "metadata": {
      "needs_background": "light"
     },
     "output_type": "display_data"
    }
   ],
   "source": [
    "plt.plot(pwv,all_temp,'b-')\n",
    "plt.grid()\n",
    "plt.title(\"Flux for pwv from 0.2 mm to 12 mm, no cloud \")\n",
    "plt.xlabel(\"pwv (mm)\")\n",
    "plt.ylabel(\"Flux ($W/m^2$)\")\n",
    "figname=string_date+\"_fluxvspwv.png\"\n",
    "plt.savefig(figname)"
   ]
  },
  {
   "cell_type": "code",
   "execution_count": null,
   "metadata": {},
   "outputs": [],
   "source": []
  }
 ],
 "metadata": {
  "anaconda-cloud": {},
  "kernelspec": {
   "display_name": "Python 3 (ipykernel)",
   "language": "python",
   "name": "python3"
  },
  "language_info": {
   "codemirror_mode": {
    "name": "ipython",
    "version": 3
   },
   "file_extension": ".py",
   "mimetype": "text/x-python",
   "name": "python",
   "nbconvert_exporter": "python",
   "pygments_lexer": "ipython3",
   "version": "3.9.15"
  },
  "toc": {
   "nav_menu": {
    "height": "12px",
    "width": "252px"
   },
   "number_sections": true,
   "sideBar": true,
   "skip_h1_title": false,
   "toc_cell": false,
   "toc_position": {},
   "toc_section_display": "block",
   "toc_window_display": false
  }
 },
 "nbformat": 4,
 "nbformat_minor": 4
}
