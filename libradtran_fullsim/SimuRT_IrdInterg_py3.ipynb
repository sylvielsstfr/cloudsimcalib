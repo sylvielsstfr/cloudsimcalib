{
 "cells": [
  {
   "cell_type": "markdown",
   "metadata": {},
   "source": [
    "# Impact of Cloud optical depth on atmospheric transmission in thermal part : Integrated part\n",
    "=======================================================================\n",
    "\n",
    "- Sylvie Dagoret-Campagne\n",
    "- affliliation : IJCLAB/IN2P3/CNRS\n",
    "- creation date :  24 January 2020\n",
    "- update :  26 January 2020\n"
   ]
  },
  {
   "cell_type": "code",
   "execution_count": 1,
   "metadata": {},
   "outputs": [],
   "source": [
    "%load_ext autoreload\n",
    "%autoreload 2"
   ]
  },
  {
   "cell_type": "code",
   "execution_count": 2,
   "metadata": {},
   "outputs": [],
   "source": [
    "import matplotlib.pyplot as plt\n",
    "%matplotlib inline\n",
    "import sys\n",
    "import os\n",
    "import numpy as np"
   ]
  },
  {
   "cell_type": "code",
   "execution_count": 3,
   "metadata": {},
   "outputs": [],
   "source": [
    "import matplotlib\n",
    "import matplotlib.pyplot as plt\n",
    "import matplotlib.colors as colors\n",
    "import matplotlib.cm as cmx"
   ]
  },
  {
   "cell_type": "code",
   "execution_count": 4,
   "metadata": {},
   "outputs": [],
   "source": [
    "matplotlib.rcParams.update({'font.size': 15, 'lines.linewidth': 2, 'lines.markersize': 15})\n",
    "matplotlib.rcParams[\"axes.labelsize\"]=\"small\"\n",
    "matplotlib.rcParams[\"axes.linewidth\"]=2.0\n",
    "matplotlib.rcParams[\"xtick.major.size\"]=8\n",
    "matplotlib.rcParams[\"ytick.major.size\"]=8\n",
    "matplotlib.rcParams[\"ytick.minor.size\"]=5\n",
    "matplotlib.rcParams[\"xtick.labelsize\"]=\"large\"\n",
    "matplotlib.rcParams[\"ytick.labelsize\"]=\"large\"\n",
    "matplotlib.rcParams[\"figure.figsize\"]=(12,6)\n",
    "matplotlib.rcParams['axes.titlesize'] = 15\n",
    "matplotlib.rcParams['axes.titleweight'] = 'bold'\n",
    "#matplotlib.rcParams['axes.facecolor'] = 'blue'\n",
    "matplotlib.rcParams['xtick.direction'] = 'out'\n",
    "matplotlib.rcParams['ytick.direction'] = 'out'\n",
    "matplotlib.rcParams['lines.markeredgewidth'] = 0.3 # the line width around the marker symbol\n",
    "matplotlib.rcParams['lines.markersize'] = 10  # markersize, in points\n",
    "matplotlib.rcParams['grid.alpha'] = 1. # transparency, between 0.0 and 1.0\n",
    "matplotlib.rcParams['grid.linestyle'] = '-' # simple line\n",
    "matplotlib.rcParams['grid.linewidth'] = 0.4 # in points "
   ]
  },
  {
   "cell_type": "code",
   "execution_count": 5,
   "metadata": {},
   "outputs": [],
   "source": [
    "from scipy.interpolate import interp1d"
   ]
  },
  {
   "cell_type": "code",
   "execution_count": 6,
   "metadata": {},
   "outputs": [],
   "source": [
    "import time\n",
    "from datetime import datetime,date\n",
    "import dateutil.parser"
   ]
  },
  {
   "cell_type": "code",
   "execution_count": 7,
   "metadata": {},
   "outputs": [],
   "source": [
    "today = date.today()\n",
    "string_date=today.strftime(\"%Y-%m-%d\")"
   ]
  },
  {
   "cell_type": "code",
   "execution_count": 8,
   "metadata": {},
   "outputs": [
    {
     "name": "stdout",
     "output_type": "stream",
     "text": [
      "/Users/dagoret//MacOSX/External/libRadtran/libRadtran-2.0.1/\n"
     ]
    }
   ],
   "source": [
    "import libsimulateThermalIrradianceIntegrated"
   ]
  },
  {
   "cell_type": "code",
   "execution_count": 9,
   "metadata": {},
   "outputs": [
    {
     "data": {
      "text/plain": [
       "'/Users/dagoret//MacOSX/External/libRadtran/libRadtran-2.0.1'"
      ]
     },
     "execution_count": 9,
     "metadata": {},
     "output_type": "execute_result"
    }
   ],
   "source": [
    "os.getenv('LIBRADTRANDIR')"
   ]
  },
  {
   "cell_type": "code",
   "execution_count": 10,
   "metadata": {},
   "outputs": [],
   "source": [
    "am=1.\n",
    "pressure = 0.\n",
    "pwv=4.0\n",
    "aer=0\n",
    "ozone=300."
   ]
  },
  {
   "cell_type": "code",
   "execution_count": 11,
   "metadata": {},
   "outputs": [],
   "source": [
    "cloudext=np.linspace(0.0,0.2,10)"
   ]
  },
  {
   "cell_type": "code",
   "execution_count": 12,
   "metadata": {},
   "outputs": [],
   "source": [
    "NBOBS=len(cloudext)"
   ]
  },
  {
   "cell_type": "code",
   "execution_count": 13,
   "metadata": {},
   "outputs": [],
   "source": [
    "jet = plt.get_cmap('jet')\n",
    "cNorm = colors.Normalize(vmin=0, vmax=NBOBS)\n",
    "scalarMap = cmx.ScalarMappable(norm=cNorm, cmap=jet)\n",
    "all_colors = scalarMap.to_rgba(np.arange( NBOBS), alpha=1)"
   ]
  },
  {
   "cell_type": "code",
   "execution_count": 14,
   "metadata": {},
   "outputs": [
    {
     "name": "stdout",
     "output_type": "stream",
     "text": [
      "--------------------------------------------\n",
      " 1) airmass =  1.0\n",
      " 2) pwv =  4.0\n",
      " 3) oz =  300.0\n",
      " 4) pressure  =  0.0\n",
      " 5) atmospheric profile =  us\n",
      " 6) interaction processes =  sa\n",
      " 7) cloud extinction =  0.0\n",
      "--------------------------------------------\n",
      "Running uvspec with input file:  simulations/RT/2.0.1/MPL/pp/us/sa/rtthermal/in/RT_MPL_pp_us_sa_rtthermal_z10_wv40_oz30_cld0000.INP\n",
      "Output to file                :  simulations/RT/2.0.1/MPL/pp/us/sa/rtthermal/out/RT_MPL_pp_us_sa_rtthermal_z10_wv40_oz30_cld0000.OUT\n",
      "uvspec cmd:  /Users/dagoret//MacOSX/External/libRadtran/libRadtran-2.0.1/bin/uvspec  < simulations/RT/2.0.1/MPL/pp/us/sa/rtthermal/in/RT_MPL_pp_us_sa_rtthermal_z10_wv40_oz30_cld0000.INP > simulations/RT/2.0.1/MPL/pp/us/sa/rtthermal/out/RT_MPL_pp_us_sa_rtthermal_z10_wv40_oz30_cld0000.OUT\n",
      "0   [7476.871     31.99624]\n",
      "--------------------------------------------\n",
      " 1) airmass =  1.0\n",
      " 2) pwv =  4.0\n",
      " 3) oz =  300.0\n",
      " 4) pressure  =  0.0\n",
      " 5) atmospheric profile =  us\n",
      " 6) interaction processes =  sa\n",
      " 7) cloud extinction =  0.022222222222222223\n",
      "--------------------------------------------\n",
      "Running uvspec with input file:  simulations/RT/2.0.1/MPL/pp/us/sa/rtthermal/in/RT_MPL_pp_us_sa_rtthermal_z10_wv40_oz30_cld0022.INP\n",
      "Output to file                :  simulations/RT/2.0.1/MPL/pp/us/sa/rtthermal/out/RT_MPL_pp_us_sa_rtthermal_z10_wv40_oz30_cld0022.OUT\n",
      "uvspec cmd:  /Users/dagoret//MacOSX/External/libRadtran/libRadtran-2.0.1/bin/uvspec  < simulations/RT/2.0.1/MPL/pp/us/sa/rtthermal/in/RT_MPL_pp_us_sa_rtthermal_z10_wv40_oz30_cld0022.INP > simulations/RT/2.0.1/MPL/pp/us/sa/rtthermal/out/RT_MPL_pp_us_sa_rtthermal_z10_wv40_oz30_cld0022.OUT\n",
      "1   [7476.871     32.59571]\n",
      "--------------------------------------------\n",
      " 1) airmass =  1.0\n",
      " 2) pwv =  4.0\n",
      " 3) oz =  300.0\n",
      " 4) pressure  =  0.0\n",
      " 5) atmospheric profile =  us\n",
      " 6) interaction processes =  sa\n",
      " 7) cloud extinction =  0.044444444444444446\n",
      "--------------------------------------------\n",
      "Running uvspec with input file:  simulations/RT/2.0.1/MPL/pp/us/sa/rtthermal/in/RT_MPL_pp_us_sa_rtthermal_z10_wv40_oz30_cld0044.INP\n",
      "Output to file                :  simulations/RT/2.0.1/MPL/pp/us/sa/rtthermal/out/RT_MPL_pp_us_sa_rtthermal_z10_wv40_oz30_cld0044.OUT\n",
      "uvspec cmd:  /Users/dagoret//MacOSX/External/libRadtran/libRadtran-2.0.1/bin/uvspec  < simulations/RT/2.0.1/MPL/pp/us/sa/rtthermal/in/RT_MPL_pp_us_sa_rtthermal_z10_wv40_oz30_cld0044.INP > simulations/RT/2.0.1/MPL/pp/us/sa/rtthermal/out/RT_MPL_pp_us_sa_rtthermal_z10_wv40_oz30_cld0044.OUT\n",
      "2   [7476.871     33.16556]\n",
      "--------------------------------------------\n",
      " 1) airmass =  1.0\n",
      " 2) pwv =  4.0\n",
      " 3) oz =  300.0\n",
      " 4) pressure  =  0.0\n",
      " 5) atmospheric profile =  us\n",
      " 6) interaction processes =  sa\n",
      " 7) cloud extinction =  0.06666666666666667\n",
      "--------------------------------------------\n",
      "Running uvspec with input file:  simulations/RT/2.0.1/MPL/pp/us/sa/rtthermal/in/RT_MPL_pp_us_sa_rtthermal_z10_wv40_oz30_cld0066.INP\n",
      "Output to file                :  simulations/RT/2.0.1/MPL/pp/us/sa/rtthermal/out/RT_MPL_pp_us_sa_rtthermal_z10_wv40_oz30_cld0066.OUT\n",
      "uvspec cmd:  /Users/dagoret//MacOSX/External/libRadtran/libRadtran-2.0.1/bin/uvspec  < simulations/RT/2.0.1/MPL/pp/us/sa/rtthermal/in/RT_MPL_pp_us_sa_rtthermal_z10_wv40_oz30_cld0066.INP > simulations/RT/2.0.1/MPL/pp/us/sa/rtthermal/out/RT_MPL_pp_us_sa_rtthermal_z10_wv40_oz30_cld0066.OUT\n",
      "3   [7476.871     33.70903]\n",
      "--------------------------------------------\n",
      " 1) airmass =  1.0\n",
      " 2) pwv =  4.0\n",
      " 3) oz =  300.0\n",
      " 4) pressure  =  0.0\n",
      " 5) atmospheric profile =  us\n",
      " 6) interaction processes =  sa\n",
      " 7) cloud extinction =  0.08888888888888889\n",
      "--------------------------------------------\n",
      "Running uvspec with input file:  simulations/RT/2.0.1/MPL/pp/us/sa/rtthermal/in/RT_MPL_pp_us_sa_rtthermal_z10_wv40_oz30_cld0088.INP\n",
      "Output to file                :  simulations/RT/2.0.1/MPL/pp/us/sa/rtthermal/out/RT_MPL_pp_us_sa_rtthermal_z10_wv40_oz30_cld0088.OUT\n",
      "uvspec cmd:  /Users/dagoret//MacOSX/External/libRadtran/libRadtran-2.0.1/bin/uvspec  < simulations/RT/2.0.1/MPL/pp/us/sa/rtthermal/in/RT_MPL_pp_us_sa_rtthermal_z10_wv40_oz30_cld0088.INP > simulations/RT/2.0.1/MPL/pp/us/sa/rtthermal/out/RT_MPL_pp_us_sa_rtthermal_z10_wv40_oz30_cld0088.OUT\n",
      "4   [7476.871     34.22882]\n",
      "--------------------------------------------\n",
      " 1) airmass =  1.0\n",
      " 2) pwv =  4.0\n",
      " 3) oz =  300.0\n",
      " 4) pressure  =  0.0\n",
      " 5) atmospheric profile =  us\n",
      " 6) interaction processes =  sa\n",
      " 7) cloud extinction =  0.11111111111111112\n",
      "--------------------------------------------\n",
      "Running uvspec with input file:  simulations/RT/2.0.1/MPL/pp/us/sa/rtthermal/in/RT_MPL_pp_us_sa_rtthermal_z10_wv40_oz30_cld0111.INP\n",
      "Output to file                :  simulations/RT/2.0.1/MPL/pp/us/sa/rtthermal/out/RT_MPL_pp_us_sa_rtthermal_z10_wv40_oz30_cld0111.OUT\n",
      "uvspec cmd:  /Users/dagoret//MacOSX/External/libRadtran/libRadtran-2.0.1/bin/uvspec  < simulations/RT/2.0.1/MPL/pp/us/sa/rtthermal/in/RT_MPL_pp_us_sa_rtthermal_z10_wv40_oz30_cld0111.INP > simulations/RT/2.0.1/MPL/pp/us/sa/rtthermal/out/RT_MPL_pp_us_sa_rtthermal_z10_wv40_oz30_cld0111.OUT\n",
      "5   [7476.871     34.72723]\n",
      "--------------------------------------------\n",
      " 1) airmass =  1.0\n",
      " 2) pwv =  4.0\n",
      " 3) oz =  300.0\n",
      " 4) pressure  =  0.0\n",
      " 5) atmospheric profile =  us\n",
      " 6) interaction processes =  sa\n",
      " 7) cloud extinction =  0.13333333333333333\n",
      "--------------------------------------------\n",
      "Running uvspec with input file:  simulations/RT/2.0.1/MPL/pp/us/sa/rtthermal/in/RT_MPL_pp_us_sa_rtthermal_z10_wv40_oz30_cld0133.INP\n",
      "Output to file                :  simulations/RT/2.0.1/MPL/pp/us/sa/rtthermal/out/RT_MPL_pp_us_sa_rtthermal_z10_wv40_oz30_cld0133.OUT\n",
      "uvspec cmd:  /Users/dagoret//MacOSX/External/libRadtran/libRadtran-2.0.1/bin/uvspec  < simulations/RT/2.0.1/MPL/pp/us/sa/rtthermal/in/RT_MPL_pp_us_sa_rtthermal_z10_wv40_oz30_cld0133.INP > simulations/RT/2.0.1/MPL/pp/us/sa/rtthermal/out/RT_MPL_pp_us_sa_rtthermal_z10_wv40_oz30_cld0133.OUT\n",
      "6   [7476.871     35.20626]\n",
      "--------------------------------------------\n",
      " 1) airmass =  1.0\n",
      " 2) pwv =  4.0\n",
      " 3) oz =  300.0\n",
      " 4) pressure  =  0.0\n",
      " 5) atmospheric profile =  us\n",
      " 6) interaction processes =  sa\n",
      " 7) cloud extinction =  0.15555555555555556\n",
      "--------------------------------------------\n",
      "Running uvspec with input file:  simulations/RT/2.0.1/MPL/pp/us/sa/rtthermal/in/RT_MPL_pp_us_sa_rtthermal_z10_wv40_oz30_cld0155.INP\n",
      "Output to file                :  simulations/RT/2.0.1/MPL/pp/us/sa/rtthermal/out/RT_MPL_pp_us_sa_rtthermal_z10_wv40_oz30_cld0155.OUT\n",
      "uvspec cmd:  /Users/dagoret//MacOSX/External/libRadtran/libRadtran-2.0.1/bin/uvspec  < simulations/RT/2.0.1/MPL/pp/us/sa/rtthermal/in/RT_MPL_pp_us_sa_rtthermal_z10_wv40_oz30_cld0155.INP > simulations/RT/2.0.1/MPL/pp/us/sa/rtthermal/out/RT_MPL_pp_us_sa_rtthermal_z10_wv40_oz30_cld0155.OUT\n",
      "7   [7476.871     35.66761]\n",
      "--------------------------------------------\n",
      " 1) airmass =  1.0\n",
      " 2) pwv =  4.0\n",
      " 3) oz =  300.0\n",
      " 4) pressure  =  0.0\n",
      " 5) atmospheric profile =  us\n",
      " 6) interaction processes =  sa\n",
      " 7) cloud extinction =  0.17777777777777778\n",
      "--------------------------------------------\n",
      "Running uvspec with input file:  simulations/RT/2.0.1/MPL/pp/us/sa/rtthermal/in/RT_MPL_pp_us_sa_rtthermal_z10_wv40_oz30_cld0177.INP\n",
      "Output to file                :  simulations/RT/2.0.1/MPL/pp/us/sa/rtthermal/out/RT_MPL_pp_us_sa_rtthermal_z10_wv40_oz30_cld0177.OUT\n",
      "uvspec cmd:  /Users/dagoret//MacOSX/External/libRadtran/libRadtran-2.0.1/bin/uvspec  < simulations/RT/2.0.1/MPL/pp/us/sa/rtthermal/in/RT_MPL_pp_us_sa_rtthermal_z10_wv40_oz30_cld0177.INP > simulations/RT/2.0.1/MPL/pp/us/sa/rtthermal/out/RT_MPL_pp_us_sa_rtthermal_z10_wv40_oz30_cld0177.OUT\n",
      "8   [7476.871     36.11276]\n",
      "--------------------------------------------\n",
      " 1) airmass =  1.0\n",
      " 2) pwv =  4.0\n",
      " 3) oz =  300.0\n",
      " 4) pressure  =  0.0\n",
      " 5) atmospheric profile =  us\n",
      " 6) interaction processes =  sa\n",
      " 7) cloud extinction =  0.2\n",
      "--------------------------------------------\n",
      "Running uvspec with input file:  simulations/RT/2.0.1/MPL/pp/us/sa/rtthermal/in/RT_MPL_pp_us_sa_rtthermal_z10_wv40_oz30_cld0200.INP\n",
      "Output to file                :  simulations/RT/2.0.1/MPL/pp/us/sa/rtthermal/out/RT_MPL_pp_us_sa_rtthermal_z10_wv40_oz30_cld0200.OUT\n",
      "uvspec cmd:  /Users/dagoret//MacOSX/External/libRadtran/libRadtran-2.0.1/bin/uvspec  < simulations/RT/2.0.1/MPL/pp/us/sa/rtthermal/in/RT_MPL_pp_us_sa_rtthermal_z10_wv40_oz30_cld0200.INP > simulations/RT/2.0.1/MPL/pp/us/sa/rtthermal/out/RT_MPL_pp_us_sa_rtthermal_z10_wv40_oz30_cld0200.OUT\n",
      "9   [7476.871     36.54299]\n"
     ]
    }
   ],
   "source": [
    "all_temp = []\n",
    "for index in np.arange(NBOBS):\n",
    "\n",
    "    path,thefile=libsimulateThermalIrradianceIntegrated.ProcessSimulation(am,pwv,ozone,pressure,\n",
    "                                                                          prof_str='us',proc_str='sa',cloudext=cloudext[index])\n",
    "    \n",
    "    data = np.loadtxt(os.path.join(path,thefile))\n",
    "    \n",
    "    print(index,\" \",data)\n",
    "    wl = data[0]\n",
    "    atm = data[1] \n",
    "    all_temp.append(atm)"
   ]
  },
  {
   "cell_type": "code",
   "execution_count": 15,
   "metadata": {},
   "outputs": [
    {
     "data": {
      "image/png": "[encoded data removed]",
      "text/plain": [
       "<Figure size 864x432 with 1 Axes>"
      ]
     },
     "metadata": {
      "needs_background": "light"
     },
     "output_type": "display_data"
    }
   ],
   "source": [
    "plt.plot(cloudext,all_temp,'b-')\n",
    "plt.grid()\n",
    "plt.title(\"Flux for cloud optical depth from 0 to 0.2\")\n",
    "plt.xlabel(\"optical depth\")\n",
    "plt.ylabel(\"Flux ($W/m^2$)\")\n",
    "figname=string_date+\"_fluxvsopticaldepth.png\"\n",
    "plt.savefig(figname)"
   ]
  },
  {
   "cell_type": "code",
   "execution_count": null,
   "metadata": {},
   "outputs": [],
   "source": []
  }
 ],
 "metadata": {
  "anaconda-cloud": {},
  "kernelspec": {
   "display_name": "Python 3 (ipykernel)",
   "language": "python",
   "name": "python3"
  },
  "language_info": {
   "codemirror_mode": {
    "name": "ipython",
    "version": 3
   },
   "file_extension": ".py",
   "mimetype": "text/x-python",
   "name": "python",
   "nbconvert_exporter": "python",
   "pygments_lexer": "ipython3",
   "version": "3.9.15"
  },
  "toc": {
   "nav_menu": {
    "height": "12px",
    "width": "252px"
   },
   "number_sections": true,
   "sideBar": true,
   "skip_h1_title": false,
   "toc_cell": false,
   "toc_position": {},
   "toc_section_display": "block",
   "toc_window_display": false
  }
 },
 "nbformat": 4,
 "nbformat_minor": 4
}
